{
  "cells": [
    {
      "cell_type": "markdown",
      "metadata": {
        "id": "view-in-github",
        "colab_type": "text"
      },
      "source": [
        "<a href=\"https://colab.research.google.com/github/smitamadhu98/Store-Analysis/blob/master/Store_Sales_Analysis_Structured_test.ipynb\" target=\"_parent\"><img src=\"https://colab.research.google.com/assets/colab-badge.svg\" alt=\"Open In Colab\"/></a>"
      ]
    },
    {
      "cell_type": "markdown",
      "id": "8671f9a1",
      "metadata": {
        "id": "8671f9a1"
      },
      "source": [
        "# Store Sales Analysis"
      ]
    },
    {
      "cell_type": "markdown",
      "id": "c147662a",
      "metadata": {
        "id": "c147662a"
      },
      "source": [
        "## Objective\n",
        "Analyze store-level sales data to understand trends, patterns, and factors influencing sales."
      ]
    },
    {
      "cell_type": "markdown",
      "id": "6b979e38",
      "metadata": {
        "id": "6b979e38"
      },
      "source": [
        "## Dataset Overview\n",
        "The dataset contains features like store information, promotions, holidays, and weekly sales data."
      ]
    },
    {
      "cell_type": "markdown",
      "id": "051831e6",
      "metadata": {
        "id": "051831e6"
      },
      "source": [
        "## Workflow\n",
        "1. Load and explore the dataset\n",
        "2. Preprocess the data\n",
        "3. Perform exploratory data analysis\n",
        "4. Apply statistical or ML models\n",
        "5. Draw conclusions"
      ]
    },
    {
      "cell_type": "code",
      "execution_count": null,
      "id": "fef24714",
      "metadata": {
        "id": "fef24714"
      },
      "outputs": [],
      "source": [
        "# Import necessary libraries\n",
        "import pandas as pd\n",
        "import numpy as np\n",
        "import matplotlib.pyplot as plt\n",
        "import seaborn as sns\n",
        "from sklearn.linear_model import LinearRegression\n",
        "from sklearn.model_selection import train_test_split\n",
        "from sklearn.metrics import mean_squared_error, r2_score"
      ]
    },
    {
      "cell_type": "code",
      "execution_count": null,
      "id": "0057c9b0",
      "metadata": {
        "colab": {
          "base_uri": "https://localhost:8080/"
        },
        "id": "0057c9b0",
        "outputId": "8aa97e4c-5d80-47f1-ec63-1e88dde2b918",
        "collapsed": true
      },
      "outputs": [
        {
          "output_type": "stream",
          "name": "stdout",
          "text": [
            "      Store        Date  Temperature  Fuel_Price  MarkDown1  MarkDown2  \\\n",
            "0         1  2010-02-05        42.31       2.572        NaN        NaN   \n",
            "1         1  2010-02-12        38.51       2.548        NaN        NaN   \n",
            "2         1  2010-02-19        39.93       2.514        NaN        NaN   \n",
            "3         1  2010-02-26        46.63       2.561        NaN        NaN   \n",
            "4         1  2010-03-05        46.50       2.625        NaN        NaN   \n",
            "...     ...         ...          ...         ...        ...        ...   \n",
            "8185     45  2013-06-28        76.05       3.639    4842.29     975.03   \n",
            "8186     45  2013-07-05        77.50       3.614    9090.48    2268.58   \n",
            "8187     45  2013-07-12        79.37       3.614    3789.94    1827.31   \n",
            "8188     45  2013-07-19        82.84       3.737    2961.49    1047.07   \n",
            "8189     45  2013-07-26        76.06       3.804     212.02     851.73   \n",
            "\n",
            "      MarkDown3  MarkDown4  MarkDown5         CPI  Unemployment  IsHoliday  \n",
            "0           NaN        NaN        NaN  211.096358         8.106      False  \n",
            "1           NaN        NaN        NaN  211.242170         8.106       True  \n",
            "2           NaN        NaN        NaN  211.289143         8.106      False  \n",
            "3           NaN        NaN        NaN  211.319643         8.106      False  \n",
            "4           NaN        NaN        NaN  211.350143         8.106      False  \n",
            "...         ...        ...        ...         ...           ...        ...  \n",
            "8185       3.00    2449.97    3169.69         NaN           NaN      False  \n",
            "8186     582.74    5797.47    1514.93         NaN           NaN      False  \n",
            "8187      85.72     744.84    2150.36         NaN           NaN      False  \n",
            "8188     204.19     363.00    1059.46         NaN           NaN      False  \n",
            "8189       2.06      10.88    1864.57         NaN           NaN      False  \n",
            "\n",
            "[8190 rows x 12 columns]\n"
          ]
        }
      ],
      "source": [
        "# Load the Dataset'\n",
        "path = '/features.csv'\n",
        "\n",
        "#read the dataset\n",
        "import pandas as pd\n",
        "data = pd.read_csv(path)\n",
        "print(data)"
      ]
    },
    {
      "cell_type": "markdown",
      "id": "9be8fb6c",
      "metadata": {
        "id": "9be8fb6c"
      },
      "source": [
        "## Data Preprocessing\n",
        "- Convert date to datetime\n",
        "- Handle missing values\n",
        "- Encode categorical variables"
      ]
    },
    {
      "cell_type": "code",
      "execution_count": 26,
      "id": "1b18da1e",
      "metadata": {
        "id": "1b18da1e",
        "colab": {
          "base_uri": "https://localhost:8080/",
          "height": 1000
        },
        "outputId": "ad132701-7b38-42d2-cf77-655a3e95487f"
      },
      "outputs": [
        {
          "output_type": "stream",
          "name": "stdout",
          "text": [
            "Date column converted to datetime. Sample values:\n",
            "0   2010-02-05\n",
            "1   2010-02-12\n",
            "2   2010-02-19\n",
            "3   2010-02-26\n",
            "4   2010-03-05\n",
            "Name: Date, dtype: datetime64[ns]\n",
            "\n",
            "Missing values before handling\n",
            "Store              0\n",
            "Date               0\n",
            "Temperature        0\n",
            "Fuel_Price         0\n",
            "MarkDown1       4158\n",
            "MarkDown2       5269\n",
            "MarkDown3       4577\n",
            "MarkDown4       4726\n",
            "MarkDown5       4140\n",
            "CPI              585\n",
            "Unemployment     585\n",
            "IsHoliday          0\n",
            "dtype: int64\n",
            "\n",
            "After handling missing values \n",
            "    Store       Date  Temperature  Fuel_Price  MarkDown1  MarkDown2  \\\n",
            "92      1 2011-11-11        59.11       3.297   10382.90    6115.67   \n",
            "93      1 2011-11-18        62.25       3.308    6074.12     254.39   \n",
            "94      1 2011-11-25        60.14       3.236     410.31      98.00   \n",
            "95      1 2011-12-02        48.91       3.172    5629.51      68.00   \n",
            "96      1 2011-12-09        43.93       3.158    4640.65      19.00   \n",
            "\n",
            "    MarkDown3  MarkDown4  MarkDown5         CPI  Unemployment  IsHoliday  \n",
            "92     215.07    2406.62    6551.42  217.998085         7.866      False  \n",
            "93      51.98     427.39    5988.57  218.220509         7.866      False  \n",
            "94   55805.51       8.00     554.92  218.467621         7.866       True  \n",
            "95    1398.11    2084.64   20475.32  218.714733         7.866      False  \n",
            "96     105.02    3639.42   14461.82  218.961846         7.866      False  \n",
            "\n",
            "Categorial values as below\n"
          ]
        },
        {
          "output_type": "execute_result",
          "data": {
            "text/plain": [
              "Store            45\n",
              "Date            182\n",
              "Temperature    4178\n",
              "Fuel_Price     1011\n",
              "MarkDown1      4023\n",
              "MarkDown2      2715\n",
              "MarkDown3      2885\n",
              "MarkDown4      3405\n",
              "MarkDown5      4045\n",
              "CPI            2505\n",
              "dtype: int64"
            ],
            "text/html": [
              "<div>\n",
              "<style scoped>\n",
              "    .dataframe tbody tr th:only-of-type {\n",
              "        vertical-align: middle;\n",
              "    }\n",
              "\n",
              "    .dataframe tbody tr th {\n",
              "        vertical-align: top;\n",
              "    }\n",
              "\n",
              "    .dataframe thead th {\n",
              "        text-align: right;\n",
              "    }\n",
              "</style>\n",
              "<table border=\"1\" class=\"dataframe\">\n",
              "  <thead>\n",
              "    <tr style=\"text-align: right;\">\n",
              "      <th></th>\n",
              "      <th>0</th>\n",
              "    </tr>\n",
              "  </thead>\n",
              "  <tbody>\n",
              "    <tr>\n",
              "      <th>Store</th>\n",
              "      <td>45</td>\n",
              "    </tr>\n",
              "    <tr>\n",
              "      <th>Date</th>\n",
              "      <td>182</td>\n",
              "    </tr>\n",
              "    <tr>\n",
              "      <th>Temperature</th>\n",
              "      <td>4178</td>\n",
              "    </tr>\n",
              "    <tr>\n",
              "      <th>Fuel_Price</th>\n",
              "      <td>1011</td>\n",
              "    </tr>\n",
              "    <tr>\n",
              "      <th>MarkDown1</th>\n",
              "      <td>4023</td>\n",
              "    </tr>\n",
              "    <tr>\n",
              "      <th>MarkDown2</th>\n",
              "      <td>2715</td>\n",
              "    </tr>\n",
              "    <tr>\n",
              "      <th>MarkDown3</th>\n",
              "      <td>2885</td>\n",
              "    </tr>\n",
              "    <tr>\n",
              "      <th>MarkDown4</th>\n",
              "      <td>3405</td>\n",
              "    </tr>\n",
              "    <tr>\n",
              "      <th>MarkDown5</th>\n",
              "      <td>4045</td>\n",
              "    </tr>\n",
              "    <tr>\n",
              "      <th>CPI</th>\n",
              "      <td>2505</td>\n",
              "    </tr>\n",
              "  </tbody>\n",
              "</table>\n",
              "</div><br><label><b>dtype:</b> int64</label>"
            ]
          },
          "metadata": {},
          "execution_count": 26
        }
      ],
      "source": [
        "# Convert 'Date' to datetime\n",
        "\n",
        "data['Date'] = pd.to_datetime(data['Date'], errors='coerce')\n",
        "print(\"Date column converted to datetime. Sample values:\")\n",
        "print(data['Date'].head())\n",
        "\n",
        "\n",
        "# Fill or drop missing values based on context\n",
        "print(  )\n",
        "print('Missing values before handling')\n",
        "print(data.isnull().sum())\n",
        "\n",
        "# Drop rows where Date is missing for handling\n",
        "print(  )\n",
        "data1 = data.dropna()\n",
        "print('After handling missing values ')\n",
        "data1.isnull().sum()\n",
        "print(data1.head())\n",
        "\n",
        "# Encode Categorial Values\n",
        "print(  )\n",
        "print('Categorial values as below')\n",
        "data.nunique().head(10)"
      ]
    },
    {
      "cell_type": "markdown",
      "id": "6346e30d",
      "metadata": {
        "id": "6346e30d"
      },
      "source": [
        "## Exploratory Data Analysis"
      ]
    },
    {
      "cell_type": "code",
      "execution_count": null,
      "id": "d0808ade",
      "metadata": {
        "id": "d0808ade"
      },
      "outputs": [],
      "source": [
        "# Weekly Sales distribution\n",
        "\n"
      ]
    },
    {
      "cell_type": "code",
      "execution_count": null,
      "id": "c4b34c14",
      "metadata": {
        "id": "c4b34c14"
      },
      "outputs": [],
      "source": [
        "# Correlation heatmap\n",
        "\n"
      ]
    },
    {
      "cell_type": "markdown",
      "id": "64af5e8b",
      "metadata": {
        "id": "64af5e8b"
      },
      "source": [
        "## Model Training (if applicable)"
      ]
    },
    {
      "cell_type": "code",
      "execution_count": null,
      "id": "bfbf3389",
      "metadata": {
        "id": "bfbf3389"
      },
      "outputs": [],
      "source": [
        "# Simple Linear Regression example if Weekly_Sales is present\n",
        "\n"
      ]
    },
    {
      "cell_type": "markdown",
      "id": "1cf025e6",
      "metadata": {
        "id": "1cf025e6"
      },
      "source": [
        "## Conclusion\n",
        "Summarize key findings and insights from the sales data analysis."
      ]
    }
  ],
  "metadata": {
    "language_info": {
      "name": "python"
    },
    "colab": {
      "provenance": [],
      "include_colab_link": true
    },
    "kernelspec": {
      "name": "python3",
      "display_name": "Python 3"
    }
  },
  "nbformat": 4,
  "nbformat_minor": 5
}